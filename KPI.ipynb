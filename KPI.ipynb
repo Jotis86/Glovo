{
 "cells": [
  {
   "cell_type": "code",
   "execution_count": 2,
   "metadata": {},
   "outputs": [],
   "source": [
    "import pandas as pd"
   ]
  },
  {
   "cell_type": "code",
   "execution_count": 3,
   "metadata": {},
   "outputs": [],
   "source": [
    "# Cargamos el dataset\n",
    "df_metrics = pd.read_csv('metrics.csv')\n",
    "df_stores = pd.read_csv('stores.csv')"
   ]
  },
  {
   "cell_type": "code",
   "execution_count": 13,
   "metadata": {},
   "outputs": [
    {
     "name": "stdout",
     "output_type": "stream",
     "text": [
      "Ventas generadas por Menu Splits: 25824318.49\n",
      "Ventas generadas por Marcas Madres: 856787.94\n"
     ]
    }
   ],
   "source": [
    "# Filtrar los datos para marcas madres y Menu Splits\n",
    "menu_splits = df_metrics[df_metrics['is_food'] == 'Yes']\n",
    "madre_brands = df_metrics[df_metrics['is_food'] == 'No']\n",
    "\n",
    "# Calcular el GMV total de cada grupo\n",
    "gmv_menu_splits = round(menu_splits['total_gmv'].sum(), 2)\n",
    "gmv_madre_brands = round(madre_brands['total_gmv'].sum(), 2)\n",
    "\n",
    "print(f\"Ventas generadas por Menu Splits: {gmv_menu_splits}\")\n",
    "print(f\"Ventas generadas por Marcas Madres: {gmv_madre_brands}\")\n"
   ]
  },
  {
   "cell_type": "code",
   "execution_count": 14,
   "metadata": {},
   "outputs": [
    {
     "name": "stdout",
     "output_type": "stream",
     "text": [
      "Incremento neto de ingresos para marcas madres: 24967530.55\n"
     ]
    }
   ],
   "source": [
    "# Incremento neto de ingresos para marcas madres:\n",
    "# Calcular incremento neto de ingresos\n",
    "# Esto puede implicar comparar periodos diferentes o analizar la evolución de la marca madre con Menu Split\n",
    "incremento_ingresos = round(gmv_menu_splits - gmv_madre_brands, 2)\n",
    "print(f\"Incremento neto de ingresos para marcas madres: {incremento_ingresos}\")"
   ]
  },
  {
   "cell_type": "code",
   "execution_count": 15,
   "metadata": {},
   "outputs": [
    {
     "name": "stdout",
     "output_type": "stream",
     "text": [
      "Coste operativo Menu Splits: 122042.94\n",
      "Coste operativo Marcas Madres: 4586.48\n"
     ]
    }
   ],
   "source": [
    "# Costes operativos:\n",
    "cpo_menu_splits = round(menu_splits['cpo_eur'].sum(), 2)\n",
    "cpo_madre_brands = round(madre_brands['cpo_eur'].sum(), 2)\n",
    "print(f\"Coste operativo Menu Splits: {cpo_menu_splits}\")\n",
    "print(f\"Coste operativo Marcas Madres: {cpo_madre_brands}\")"
   ]
  },
  {
   "cell_type": "code",
   "execution_count": 12,
   "metadata": {},
   "outputs": [
    {
     "name": "stdout",
     "output_type": "stream",
     "text": [
      "Tasa de pedidos repetidos Menu Splits: 0.92\n"
     ]
    }
   ],
   "source": [
    "# Tasa de pedidos repetidos\n",
    "\n",
    "recurrentes_menu_splits = menu_splits['recurrent_customers'].sum()\n",
    "total_usuarios_menu_splits = menu_splits['users'].sum()\n",
    "tasa_recurrentes_menu_splits = recurrentes_menu_splits / total_usuarios_menu_splits\n",
    "tasa_recurrentes_menu_splits = round(tasa_recurrentes_menu_splits, 2)\n",
    "print(f\"Tasa de pedidos repetidos Menu Splits: {tasa_recurrentes_menu_splits}\")"
   ]
  }
 ],
 "metadata": {
  "kernelspec": {
   "display_name": "base",
   "language": "python",
   "name": "python3"
  },
  "language_info": {
   "codemirror_mode": {
    "name": "ipython",
    "version": 3
   },
   "file_extension": ".py",
   "mimetype": "text/x-python",
   "name": "python",
   "nbconvert_exporter": "python",
   "pygments_lexer": "ipython3",
   "version": "3.11.7"
  }
 },
 "nbformat": 4,
 "nbformat_minor": 2
}
